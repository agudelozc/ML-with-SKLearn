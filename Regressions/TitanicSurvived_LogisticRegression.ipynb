{
 "cells": [
  {
   "cell_type": "code",
   "execution_count": 3,
   "id": "13876d16",
   "metadata": {},
   "outputs": [],
   "source": [
    "import pandas as pd\n",
    "import numpy as np\n",
    "import matplotlib.pyplot as plt\n",
    "from pandas.plotting import scatter_matrix\n",
    "import seaborn as sns\n",
    "from sklearn.linear_model import LogisticRegression\n",
    "from sklearn.model_selection import train_test_split\n",
    "from sklearn.metrics import confusion_matrix\n",
    "from sklearn.metrics import classification_report\n"
   ]
  },
  {
   "cell_type": "code",
   "execution_count": 2,
   "id": "a6203a85",
   "metadata": {},
   "outputs": [],
   "source": [
    "#Load the train and test dataset in padas dataframe\n",
    "train = pd.read_csv(\"C:\\\\Users\\\\CRISTIAN\\\\Desktop\\\\Machine learning con Scikit-Learning\\\\Regressions\\\\train.csv\")\n",
    "test = pd.read_csv(\"C:\\\\Users\\\\CRISTIAN\\\\Desktop\\\\Machine learning con Scikit-Learning\\\\Regressions\\\\test.csv\")"
   ]
  },
  {
   "cell_type": "code",
   "execution_count": 4,
   "id": "4fd2ef5b",
   "metadata": {},
   "outputs": [
    {
     "data": {
      "text/plain": [
       "(891, 12)"
      ]
     },
     "execution_count": 4,
     "metadata": {},
     "output_type": "execute_result"
    }
   ],
   "source": [
    "train.shape"
   ]
  },
  {
   "cell_type": "code",
   "execution_count": 5,
   "id": "f1e686b7",
   "metadata": {},
   "outputs": [
    {
     "data": {
      "text/plain": [
       "0    549\n",
       "1    342\n",
       "Name: Survived, dtype: int64"
      ]
     },
     "execution_count": 5,
     "metadata": {},
     "output_type": "execute_result"
    }
   ],
   "source": [
    "train.Survived.value_counts()"
   ]
  },
  {
   "cell_type": "code",
   "execution_count": 6,
   "id": "265898ee",
   "metadata": {},
   "outputs": [
    {
     "data": {
      "text/html": [
       "<div>\n",
       "<style scoped>\n",
       "    .dataframe tbody tr th:only-of-type {\n",
       "        vertical-align: middle;\n",
       "    }\n",
       "\n",
       "    .dataframe tbody tr th {\n",
       "        vertical-align: top;\n",
       "    }\n",
       "\n",
       "    .dataframe thead th {\n",
       "        text-align: right;\n",
       "    }\n",
       "</style>\n",
       "<table border=\"1\" class=\"dataframe\">\n",
       "  <thead>\n",
       "    <tr style=\"text-align: right;\">\n",
       "      <th></th>\n",
       "      <th>PassengerId</th>\n",
       "      <th>Survived</th>\n",
       "      <th>Pclass</th>\n",
       "      <th>Name</th>\n",
       "      <th>Sex</th>\n",
       "      <th>Age</th>\n",
       "      <th>SibSp</th>\n",
       "      <th>Parch</th>\n",
       "      <th>Ticket</th>\n",
       "      <th>Fare</th>\n",
       "      <th>Cabin</th>\n",
       "      <th>Embarked</th>\n",
       "    </tr>\n",
       "  </thead>\n",
       "  <tbody>\n",
       "    <tr>\n",
       "      <th>0</th>\n",
       "      <td>1</td>\n",
       "      <td>0</td>\n",
       "      <td>3</td>\n",
       "      <td>Braund, Mr. Owen Harris</td>\n",
       "      <td>male</td>\n",
       "      <td>22.0</td>\n",
       "      <td>1</td>\n",
       "      <td>0</td>\n",
       "      <td>A/5 21171</td>\n",
       "      <td>7.2500</td>\n",
       "      <td>NaN</td>\n",
       "      <td>S</td>\n",
       "    </tr>\n",
       "    <tr>\n",
       "      <th>1</th>\n",
       "      <td>2</td>\n",
       "      <td>1</td>\n",
       "      <td>1</td>\n",
       "      <td>Cumings, Mrs. John Bradley (Florence Briggs Th...</td>\n",
       "      <td>female</td>\n",
       "      <td>38.0</td>\n",
       "      <td>1</td>\n",
       "      <td>0</td>\n",
       "      <td>PC 17599</td>\n",
       "      <td>71.2833</td>\n",
       "      <td>C85</td>\n",
       "      <td>C</td>\n",
       "    </tr>\n",
       "    <tr>\n",
       "      <th>2</th>\n",
       "      <td>3</td>\n",
       "      <td>1</td>\n",
       "      <td>3</td>\n",
       "      <td>Heikkinen, Miss. Laina</td>\n",
       "      <td>female</td>\n",
       "      <td>26.0</td>\n",
       "      <td>0</td>\n",
       "      <td>0</td>\n",
       "      <td>STON/O2. 3101282</td>\n",
       "      <td>7.9250</td>\n",
       "      <td>NaN</td>\n",
       "      <td>S</td>\n",
       "    </tr>\n",
       "    <tr>\n",
       "      <th>3</th>\n",
       "      <td>4</td>\n",
       "      <td>1</td>\n",
       "      <td>1</td>\n",
       "      <td>Futrelle, Mrs. Jacques Heath (Lily May Peel)</td>\n",
       "      <td>female</td>\n",
       "      <td>35.0</td>\n",
       "      <td>1</td>\n",
       "      <td>0</td>\n",
       "      <td>113803</td>\n",
       "      <td>53.1000</td>\n",
       "      <td>C123</td>\n",
       "      <td>S</td>\n",
       "    </tr>\n",
       "    <tr>\n",
       "      <th>4</th>\n",
       "      <td>5</td>\n",
       "      <td>0</td>\n",
       "      <td>3</td>\n",
       "      <td>Allen, Mr. William Henry</td>\n",
       "      <td>male</td>\n",
       "      <td>35.0</td>\n",
       "      <td>0</td>\n",
       "      <td>0</td>\n",
       "      <td>373450</td>\n",
       "      <td>8.0500</td>\n",
       "      <td>NaN</td>\n",
       "      <td>S</td>\n",
       "    </tr>\n",
       "  </tbody>\n",
       "</table>\n",
       "</div>"
      ],
      "text/plain": [
       "   PassengerId  Survived  Pclass  \\\n",
       "0            1         0       3   \n",
       "1            2         1       1   \n",
       "2            3         1       3   \n",
       "3            4         1       1   \n",
       "4            5         0       3   \n",
       "\n",
       "                                                Name     Sex   Age  SibSp  \\\n",
       "0                            Braund, Mr. Owen Harris    male  22.0      1   \n",
       "1  Cumings, Mrs. John Bradley (Florence Briggs Th...  female  38.0      1   \n",
       "2                             Heikkinen, Miss. Laina  female  26.0      0   \n",
       "3       Futrelle, Mrs. Jacques Heath (Lily May Peel)  female  35.0      1   \n",
       "4                           Allen, Mr. William Henry    male  35.0      0   \n",
       "\n",
       "   Parch            Ticket     Fare Cabin Embarked  \n",
       "0      0         A/5 21171   7.2500   NaN        S  \n",
       "1      0          PC 17599  71.2833   C85        C  \n",
       "2      0  STON/O2. 3101282   7.9250   NaN        S  \n",
       "3      0            113803  53.1000  C123        S  \n",
       "4      0            373450   8.0500   NaN        S  "
      ]
     },
     "execution_count": 6,
     "metadata": {},
     "output_type": "execute_result"
    }
   ],
   "source": [
    "train.head(5)"
   ]
  },
  {
   "cell_type": "code",
   "execution_count": 7,
   "id": "505e9cee",
   "metadata": {},
   "outputs": [
    {
     "data": {
      "text/html": [
       "<div>\n",
       "<style scoped>\n",
       "    .dataframe tbody tr th:only-of-type {\n",
       "        vertical-align: middle;\n",
       "    }\n",
       "\n",
       "    .dataframe tbody tr th {\n",
       "        vertical-align: top;\n",
       "    }\n",
       "\n",
       "    .dataframe thead th {\n",
       "        text-align: right;\n",
       "    }\n",
       "</style>\n",
       "<table border=\"1\" class=\"dataframe\">\n",
       "  <thead>\n",
       "    <tr style=\"text-align: right;\">\n",
       "      <th></th>\n",
       "      <th>PassengerId</th>\n",
       "      <th>Pclass</th>\n",
       "      <th>Name</th>\n",
       "      <th>Sex</th>\n",
       "      <th>Age</th>\n",
       "      <th>SibSp</th>\n",
       "      <th>Parch</th>\n",
       "      <th>Ticket</th>\n",
       "      <th>Fare</th>\n",
       "      <th>Cabin</th>\n",
       "      <th>Embarked</th>\n",
       "    </tr>\n",
       "  </thead>\n",
       "  <tbody>\n",
       "    <tr>\n",
       "      <th>0</th>\n",
       "      <td>892</td>\n",
       "      <td>3</td>\n",
       "      <td>Kelly, Mr. James</td>\n",
       "      <td>male</td>\n",
       "      <td>34.5</td>\n",
       "      <td>0</td>\n",
       "      <td>0</td>\n",
       "      <td>330911</td>\n",
       "      <td>7.8292</td>\n",
       "      <td>NaN</td>\n",
       "      <td>Q</td>\n",
       "    </tr>\n",
       "    <tr>\n",
       "      <th>1</th>\n",
       "      <td>893</td>\n",
       "      <td>3</td>\n",
       "      <td>Wilkes, Mrs. James (Ellen Needs)</td>\n",
       "      <td>female</td>\n",
       "      <td>47.0</td>\n",
       "      <td>1</td>\n",
       "      <td>0</td>\n",
       "      <td>363272</td>\n",
       "      <td>7.0000</td>\n",
       "      <td>NaN</td>\n",
       "      <td>S</td>\n",
       "    </tr>\n",
       "    <tr>\n",
       "      <th>2</th>\n",
       "      <td>894</td>\n",
       "      <td>2</td>\n",
       "      <td>Myles, Mr. Thomas Francis</td>\n",
       "      <td>male</td>\n",
       "      <td>62.0</td>\n",
       "      <td>0</td>\n",
       "      <td>0</td>\n",
       "      <td>240276</td>\n",
       "      <td>9.6875</td>\n",
       "      <td>NaN</td>\n",
       "      <td>Q</td>\n",
       "    </tr>\n",
       "    <tr>\n",
       "      <th>3</th>\n",
       "      <td>895</td>\n",
       "      <td>3</td>\n",
       "      <td>Wirz, Mr. Albert</td>\n",
       "      <td>male</td>\n",
       "      <td>27.0</td>\n",
       "      <td>0</td>\n",
       "      <td>0</td>\n",
       "      <td>315154</td>\n",
       "      <td>8.6625</td>\n",
       "      <td>NaN</td>\n",
       "      <td>S</td>\n",
       "    </tr>\n",
       "    <tr>\n",
       "      <th>4</th>\n",
       "      <td>896</td>\n",
       "      <td>3</td>\n",
       "      <td>Hirvonen, Mrs. Alexander (Helga E Lindqvist)</td>\n",
       "      <td>female</td>\n",
       "      <td>22.0</td>\n",
       "      <td>1</td>\n",
       "      <td>1</td>\n",
       "      <td>3101298</td>\n",
       "      <td>12.2875</td>\n",
       "      <td>NaN</td>\n",
       "      <td>S</td>\n",
       "    </tr>\n",
       "  </tbody>\n",
       "</table>\n",
       "</div>"
      ],
      "text/plain": [
       "   PassengerId  Pclass                                          Name     Sex  \\\n",
       "0          892       3                              Kelly, Mr. James    male   \n",
       "1          893       3              Wilkes, Mrs. James (Ellen Needs)  female   \n",
       "2          894       2                     Myles, Mr. Thomas Francis    male   \n",
       "3          895       3                              Wirz, Mr. Albert    male   \n",
       "4          896       3  Hirvonen, Mrs. Alexander (Helga E Lindqvist)  female   \n",
       "\n",
       "    Age  SibSp  Parch   Ticket     Fare Cabin Embarked  \n",
       "0  34.5      0      0   330911   7.8292   NaN        Q  \n",
       "1  47.0      1      0   363272   7.0000   NaN        S  \n",
       "2  62.0      0      0   240276   9.6875   NaN        Q  \n",
       "3  27.0      0      0   315154   8.6625   NaN        S  \n",
       "4  22.0      1      1  3101298  12.2875   NaN        S  "
      ]
     },
     "execution_count": 7,
     "metadata": {},
     "output_type": "execute_result"
    }
   ],
   "source": [
    "test.head(5)"
   ]
  },
  {
   "cell_type": "code",
   "execution_count": 8,
   "id": "82c8fb48",
   "metadata": {},
   "outputs": [
    {
     "data": {
      "text/plain": [
       "male      577\n",
       "female    314\n",
       "Name: Sex, dtype: int64"
      ]
     },
     "execution_count": 8,
     "metadata": {},
     "output_type": "execute_result"
    }
   ],
   "source": [
    "train.Sex.value_counts()"
   ]
  },
  {
   "cell_type": "code",
   "execution_count": 9,
   "id": "8c104bc5",
   "metadata": {},
   "outputs": [
    {
     "data": {
      "text/plain": [
       "S    644\n",
       "C    168\n",
       "Q     77\n",
       "Name: Embarked, dtype: int64"
      ]
     },
     "execution_count": 9,
     "metadata": {},
     "output_type": "execute_result"
    }
   ],
   "source": [
    "train.Embarked.value_counts()"
   ]
  },
  {
   "cell_type": "code",
   "execution_count": 12,
   "id": "02f02474",
   "metadata": {},
   "outputs": [
    {
     "data": {
      "text/plain": [
       "PassengerId      0\n",
       "Survived         0\n",
       "Pclass           0\n",
       "Name             0\n",
       "Sex              0\n",
       "Age            177\n",
       "SibSp            0\n",
       "Parch            0\n",
       "Ticket           0\n",
       "Fare             0\n",
       "Cabin          687\n",
       "Embarked         2\n",
       "dtype: int64"
      ]
     },
     "execution_count": 12,
     "metadata": {},
     "output_type": "execute_result"
    }
   ],
   "source": [
    "train.isnull().sum()"
   ]
  },
  {
   "cell_type": "code",
   "execution_count": 15,
   "id": "fd19352c",
   "metadata": {},
   "outputs": [
    {
     "data": {
      "text/html": [
       "<div>\n",
       "<style scoped>\n",
       "    .dataframe tbody tr th:only-of-type {\n",
       "        vertical-align: middle;\n",
       "    }\n",
       "\n",
       "    .dataframe tbody tr th {\n",
       "        vertical-align: top;\n",
       "    }\n",
       "\n",
       "    .dataframe thead th {\n",
       "        text-align: right;\n",
       "    }\n",
       "</style>\n",
       "<table border=\"1\" class=\"dataframe\">\n",
       "  <thead>\n",
       "    <tr style=\"text-align: right;\">\n",
       "      <th></th>\n",
       "      <th>Survived</th>\n",
       "      <th>Pclass</th>\n",
       "      <th>Sex</th>\n",
       "      <th>Age</th>\n",
       "      <th>SibSp</th>\n",
       "      <th>Parch</th>\n",
       "      <th>Fare</th>\n",
       "      <th>Embarked</th>\n",
       "    </tr>\n",
       "  </thead>\n",
       "  <tbody>\n",
       "    <tr>\n",
       "      <th>0</th>\n",
       "      <td>0</td>\n",
       "      <td>3</td>\n",
       "      <td>male</td>\n",
       "      <td>22.0</td>\n",
       "      <td>1</td>\n",
       "      <td>0</td>\n",
       "      <td>7.2500</td>\n",
       "      <td>S</td>\n",
       "    </tr>\n",
       "    <tr>\n",
       "      <th>1</th>\n",
       "      <td>1</td>\n",
       "      <td>1</td>\n",
       "      <td>female</td>\n",
       "      <td>38.0</td>\n",
       "      <td>1</td>\n",
       "      <td>0</td>\n",
       "      <td>71.2833</td>\n",
       "      <td>C</td>\n",
       "    </tr>\n",
       "    <tr>\n",
       "      <th>2</th>\n",
       "      <td>1</td>\n",
       "      <td>3</td>\n",
       "      <td>female</td>\n",
       "      <td>26.0</td>\n",
       "      <td>0</td>\n",
       "      <td>0</td>\n",
       "      <td>7.9250</td>\n",
       "      <td>S</td>\n",
       "    </tr>\n",
       "    <tr>\n",
       "      <th>3</th>\n",
       "      <td>1</td>\n",
       "      <td>1</td>\n",
       "      <td>female</td>\n",
       "      <td>35.0</td>\n",
       "      <td>1</td>\n",
       "      <td>0</td>\n",
       "      <td>53.1000</td>\n",
       "      <td>S</td>\n",
       "    </tr>\n",
       "    <tr>\n",
       "      <th>4</th>\n",
       "      <td>0</td>\n",
       "      <td>3</td>\n",
       "      <td>male</td>\n",
       "      <td>35.0</td>\n",
       "      <td>0</td>\n",
       "      <td>0</td>\n",
       "      <td>8.0500</td>\n",
       "      <td>S</td>\n",
       "    </tr>\n",
       "  </tbody>\n",
       "</table>\n",
       "</div>"
      ],
      "text/plain": [
       "   Survived  Pclass     Sex   Age  SibSp  Parch     Fare Embarked\n",
       "0         0       3    male  22.0      1      0   7.2500        S\n",
       "1         1       1  female  38.0      1      0  71.2833        C\n",
       "2         1       3  female  26.0      0      0   7.9250        S\n",
       "3         1       1  female  35.0      1      0  53.1000        S\n",
       "4         0       3    male  35.0      0      0   8.0500        S"
      ]
     },
     "execution_count": 15,
     "metadata": {},
     "output_type": "execute_result"
    }
   ],
   "source": [
    "train = train.drop(['PassengerId','Name','Ticket','Cabin'],axis=1)\n",
    "train.head()"
   ]
  },
  {
   "cell_type": "code",
   "execution_count": 19,
   "id": "3318f331",
   "metadata": {},
   "outputs": [],
   "source": [
    "def age_aprox(cols):\n",
    "    Age = cols[0]\n",
    "    Pclass = cols[1]\n",
    "    \n",
    "    if pd.isnull(Age):\n",
    "        if Pclass==1:\n",
    "            return 37\n",
    "        elif Pclass==2:\n",
    "            return 29\n",
    "        else:\n",
    "            return 24\n",
    "    else:\n",
    "        return Age\n",
    "    "
   ]
  },
  {
   "cell_type": "code",
   "execution_count": 17,
   "id": "6a3e8183",
   "metadata": {},
   "outputs": [
    {
     "data": {
      "text/html": [
       "<div>\n",
       "<style scoped>\n",
       "    .dataframe tbody tr th:only-of-type {\n",
       "        vertical-align: middle;\n",
       "    }\n",
       "\n",
       "    .dataframe tbody tr th {\n",
       "        vertical-align: top;\n",
       "    }\n",
       "\n",
       "    .dataframe thead th {\n",
       "        text-align: right;\n",
       "    }\n",
       "</style>\n",
       "<table border=\"1\" class=\"dataframe\">\n",
       "  <thead>\n",
       "    <tr style=\"text-align: right;\">\n",
       "      <th></th>\n",
       "      <th>Survived</th>\n",
       "      <th>Age</th>\n",
       "      <th>SibSp</th>\n",
       "      <th>Parch</th>\n",
       "      <th>Fare</th>\n",
       "    </tr>\n",
       "    <tr>\n",
       "      <th>Pclass</th>\n",
       "      <th></th>\n",
       "      <th></th>\n",
       "      <th></th>\n",
       "      <th></th>\n",
       "      <th></th>\n",
       "    </tr>\n",
       "  </thead>\n",
       "  <tbody>\n",
       "    <tr>\n",
       "      <th>1</th>\n",
       "      <td>0.629630</td>\n",
       "      <td>38.233441</td>\n",
       "      <td>0.416667</td>\n",
       "      <td>0.356481</td>\n",
       "      <td>84.154687</td>\n",
       "    </tr>\n",
       "    <tr>\n",
       "      <th>2</th>\n",
       "      <td>0.472826</td>\n",
       "      <td>29.877630</td>\n",
       "      <td>0.402174</td>\n",
       "      <td>0.380435</td>\n",
       "      <td>20.662183</td>\n",
       "    </tr>\n",
       "    <tr>\n",
       "      <th>3</th>\n",
       "      <td>0.242363</td>\n",
       "      <td>25.140620</td>\n",
       "      <td>0.615071</td>\n",
       "      <td>0.393075</td>\n",
       "      <td>13.675550</td>\n",
       "    </tr>\n",
       "  </tbody>\n",
       "</table>\n",
       "</div>"
      ],
      "text/plain": [
       "        Survived        Age     SibSp     Parch       Fare\n",
       "Pclass                                                    \n",
       "1       0.629630  38.233441  0.416667  0.356481  84.154687\n",
       "2       0.472826  29.877630  0.402174  0.380435  20.662183\n",
       "3       0.242363  25.140620  0.615071  0.393075  13.675550"
      ]
     },
     "execution_count": 17,
     "metadata": {},
     "output_type": "execute_result"
    }
   ],
   "source": [
    "train.groupby(['Pclass']).mean()"
   ]
  },
  {
   "cell_type": "code",
   "execution_count": 20,
   "id": "b778549a",
   "metadata": {},
   "outputs": [],
   "source": [
    "train['Age'] = train[['Age','Pclass']].apply(age_aprox, axis=1)"
   ]
  },
  {
   "cell_type": "code",
   "execution_count": 21,
   "id": "d94d7153",
   "metadata": {},
   "outputs": [
    {
     "data": {
      "text/plain": [
       "Survived    False\n",
       "Pclass      False\n",
       "Sex         False\n",
       "Age         False\n",
       "SibSp       False\n",
       "Parch       False\n",
       "Fare        False\n",
       "Embarked     True\n",
       "dtype: bool"
      ]
     },
     "execution_count": 21,
     "metadata": {},
     "output_type": "execute_result"
    }
   ],
   "source": [
    "train.isnull().any()"
   ]
  },
  {
   "cell_type": "code",
   "execution_count": 23,
   "id": "bc2d4d48",
   "metadata": {},
   "outputs": [
    {
     "data": {
      "text/plain": [
       "Survived    0\n",
       "Pclass      0\n",
       "Sex         0\n",
       "Age         0\n",
       "SibSp       0\n",
       "Parch       0\n",
       "Fare        0\n",
       "Embarked    0\n",
       "dtype: int64"
      ]
     },
     "execution_count": 23,
     "metadata": {},
     "output_type": "execute_result"
    }
   ],
   "source": [
    "train.dropna(inplace=True)\n",
    "train.isnull().sum()"
   ]
  },
  {
   "cell_type": "code",
   "execution_count": 24,
   "id": "928f7872",
   "metadata": {},
   "outputs": [
    {
     "data": {
      "text/plain": [
       "Survived      int64\n",
       "Pclass        int64\n",
       "Sex          object\n",
       "Age         float64\n",
       "SibSp         int64\n",
       "Parch         int64\n",
       "Fare        float64\n",
       "Embarked     object\n",
       "dtype: object"
      ]
     },
     "execution_count": 24,
     "metadata": {},
     "output_type": "execute_result"
    }
   ],
   "source": [
    "train.dtypes"
   ]
  },
  {
   "cell_type": "code",
   "execution_count": 32,
   "id": "5c7a623f",
   "metadata": {},
   "outputs": [],
   "source": [
    "df_train_dummied = pd.get_dummies(train,columns=['Sex'])"
   ]
  },
  {
   "cell_type": "code",
   "execution_count": 33,
   "id": "8cef289c",
   "metadata": {},
   "outputs": [],
   "source": [
    "df_train_dummied = pd.get_dummies(df_train_dummied,columns=['Embarked'])"
   ]
  },
  {
   "cell_type": "code",
   "execution_count": 34,
   "id": "a1907e77",
   "metadata": {},
   "outputs": [
    {
     "data": {
      "text/html": [
       "<div>\n",
       "<style scoped>\n",
       "    .dataframe tbody tr th:only-of-type {\n",
       "        vertical-align: middle;\n",
       "    }\n",
       "\n",
       "    .dataframe tbody tr th {\n",
       "        vertical-align: top;\n",
       "    }\n",
       "\n",
       "    .dataframe thead th {\n",
       "        text-align: right;\n",
       "    }\n",
       "</style>\n",
       "<table border=\"1\" class=\"dataframe\">\n",
       "  <thead>\n",
       "    <tr style=\"text-align: right;\">\n",
       "      <th></th>\n",
       "      <th>Survived</th>\n",
       "      <th>Pclass</th>\n",
       "      <th>Age</th>\n",
       "      <th>SibSp</th>\n",
       "      <th>Parch</th>\n",
       "      <th>Fare</th>\n",
       "      <th>Sex_female</th>\n",
       "      <th>Sex_male</th>\n",
       "      <th>Embarked_C</th>\n",
       "      <th>Embarked_Q</th>\n",
       "      <th>Embarked_S</th>\n",
       "    </tr>\n",
       "  </thead>\n",
       "  <tbody>\n",
       "    <tr>\n",
       "      <th>0</th>\n",
       "      <td>0</td>\n",
       "      <td>3</td>\n",
       "      <td>22.0</td>\n",
       "      <td>1</td>\n",
       "      <td>0</td>\n",
       "      <td>7.2500</td>\n",
       "      <td>0</td>\n",
       "      <td>1</td>\n",
       "      <td>0</td>\n",
       "      <td>0</td>\n",
       "      <td>1</td>\n",
       "    </tr>\n",
       "    <tr>\n",
       "      <th>1</th>\n",
       "      <td>1</td>\n",
       "      <td>1</td>\n",
       "      <td>38.0</td>\n",
       "      <td>1</td>\n",
       "      <td>0</td>\n",
       "      <td>71.2833</td>\n",
       "      <td>1</td>\n",
       "      <td>0</td>\n",
       "      <td>1</td>\n",
       "      <td>0</td>\n",
       "      <td>0</td>\n",
       "    </tr>\n",
       "    <tr>\n",
       "      <th>2</th>\n",
       "      <td>1</td>\n",
       "      <td>3</td>\n",
       "      <td>26.0</td>\n",
       "      <td>0</td>\n",
       "      <td>0</td>\n",
       "      <td>7.9250</td>\n",
       "      <td>1</td>\n",
       "      <td>0</td>\n",
       "      <td>0</td>\n",
       "      <td>0</td>\n",
       "      <td>1</td>\n",
       "    </tr>\n",
       "    <tr>\n",
       "      <th>3</th>\n",
       "      <td>1</td>\n",
       "      <td>1</td>\n",
       "      <td>35.0</td>\n",
       "      <td>1</td>\n",
       "      <td>0</td>\n",
       "      <td>53.1000</td>\n",
       "      <td>1</td>\n",
       "      <td>0</td>\n",
       "      <td>0</td>\n",
       "      <td>0</td>\n",
       "      <td>1</td>\n",
       "    </tr>\n",
       "    <tr>\n",
       "      <th>4</th>\n",
       "      <td>0</td>\n",
       "      <td>3</td>\n",
       "      <td>35.0</td>\n",
       "      <td>0</td>\n",
       "      <td>0</td>\n",
       "      <td>8.0500</td>\n",
       "      <td>0</td>\n",
       "      <td>1</td>\n",
       "      <td>0</td>\n",
       "      <td>0</td>\n",
       "      <td>1</td>\n",
       "    </tr>\n",
       "    <tr>\n",
       "      <th>...</th>\n",
       "      <td>...</td>\n",
       "      <td>...</td>\n",
       "      <td>...</td>\n",
       "      <td>...</td>\n",
       "      <td>...</td>\n",
       "      <td>...</td>\n",
       "      <td>...</td>\n",
       "      <td>...</td>\n",
       "      <td>...</td>\n",
       "      <td>...</td>\n",
       "      <td>...</td>\n",
       "    </tr>\n",
       "    <tr>\n",
       "      <th>886</th>\n",
       "      <td>0</td>\n",
       "      <td>2</td>\n",
       "      <td>27.0</td>\n",
       "      <td>0</td>\n",
       "      <td>0</td>\n",
       "      <td>13.0000</td>\n",
       "      <td>0</td>\n",
       "      <td>1</td>\n",
       "      <td>0</td>\n",
       "      <td>0</td>\n",
       "      <td>1</td>\n",
       "    </tr>\n",
       "    <tr>\n",
       "      <th>887</th>\n",
       "      <td>1</td>\n",
       "      <td>1</td>\n",
       "      <td>19.0</td>\n",
       "      <td>0</td>\n",
       "      <td>0</td>\n",
       "      <td>30.0000</td>\n",
       "      <td>1</td>\n",
       "      <td>0</td>\n",
       "      <td>0</td>\n",
       "      <td>0</td>\n",
       "      <td>1</td>\n",
       "    </tr>\n",
       "    <tr>\n",
       "      <th>888</th>\n",
       "      <td>0</td>\n",
       "      <td>3</td>\n",
       "      <td>24.0</td>\n",
       "      <td>1</td>\n",
       "      <td>2</td>\n",
       "      <td>23.4500</td>\n",
       "      <td>1</td>\n",
       "      <td>0</td>\n",
       "      <td>0</td>\n",
       "      <td>0</td>\n",
       "      <td>1</td>\n",
       "    </tr>\n",
       "    <tr>\n",
       "      <th>889</th>\n",
       "      <td>1</td>\n",
       "      <td>1</td>\n",
       "      <td>26.0</td>\n",
       "      <td>0</td>\n",
       "      <td>0</td>\n",
       "      <td>30.0000</td>\n",
       "      <td>0</td>\n",
       "      <td>1</td>\n",
       "      <td>1</td>\n",
       "      <td>0</td>\n",
       "      <td>0</td>\n",
       "    </tr>\n",
       "    <tr>\n",
       "      <th>890</th>\n",
       "      <td>0</td>\n",
       "      <td>3</td>\n",
       "      <td>32.0</td>\n",
       "      <td>0</td>\n",
       "      <td>0</td>\n",
       "      <td>7.7500</td>\n",
       "      <td>0</td>\n",
       "      <td>1</td>\n",
       "      <td>0</td>\n",
       "      <td>1</td>\n",
       "      <td>0</td>\n",
       "    </tr>\n",
       "  </tbody>\n",
       "</table>\n",
       "<p>889 rows × 11 columns</p>\n",
       "</div>"
      ],
      "text/plain": [
       "     Survived  Pclass   Age  SibSp  Parch     Fare  Sex_female  Sex_male  \\\n",
       "0           0       3  22.0      1      0   7.2500           0         1   \n",
       "1           1       1  38.0      1      0  71.2833           1         0   \n",
       "2           1       3  26.0      0      0   7.9250           1         0   \n",
       "3           1       1  35.0      1      0  53.1000           1         0   \n",
       "4           0       3  35.0      0      0   8.0500           0         1   \n",
       "..        ...     ...   ...    ...    ...      ...         ...       ...   \n",
       "886         0       2  27.0      0      0  13.0000           0         1   \n",
       "887         1       1  19.0      0      0  30.0000           1         0   \n",
       "888         0       3  24.0      1      2  23.4500           1         0   \n",
       "889         1       1  26.0      0      0  30.0000           0         1   \n",
       "890         0       3  32.0      0      0   7.7500           0         1   \n",
       "\n",
       "     Embarked_C  Embarked_Q  Embarked_S  \n",
       "0             0           0           1  \n",
       "1             1           0           0  \n",
       "2             0           0           1  \n",
       "3             0           0           1  \n",
       "4             0           0           1  \n",
       "..          ...         ...         ...  \n",
       "886           0           0           1  \n",
       "887           0           0           1  \n",
       "888           0           0           1  \n",
       "889           1           0           0  \n",
       "890           0           1           0  \n",
       "\n",
       "[889 rows x 11 columns]"
      ]
     },
     "execution_count": 34,
     "metadata": {},
     "output_type": "execute_result"
    }
   ],
   "source": [
    "df_train_dummied"
   ]
  },
  {
   "cell_type": "code",
   "execution_count": 35,
   "id": "b6f613e1",
   "metadata": {},
   "outputs": [
    {
     "data": {
      "text/plain": [
       "<AxesSubplot:>"
      ]
     },
     "execution_count": 35,
     "metadata": {},
     "output_type": "execute_result"
    },
    {
     "data": {
      "image/png": "[encoded data removed]",
      "text/plain": [
       "<Figure size 600x400 with 2 Axes>"
      ]
     },
     "metadata": {},
     "output_type": "display_data"
    }
   ],
   "source": [
    "plt.figure(figsize=(6,4))\n",
    "sns.heatmap(df_train_dummied.corr())"
   ]
  },
  {
   "cell_type": "code",
   "execution_count": 36,
   "id": "4f28e882",
   "metadata": {},
   "outputs": [],
   "source": [
    "used_features = ['Pclass','Age','SibSp','Parch','Sex_female','Sex_male',\n",
    "                'Embarked_C','Embarked_Q','Embarked_S']\n",
    "X = df_train_dummied[used_features]\n",
    "y = df_train_dummied['Survived']"
   ]
  },
  {
   "cell_type": "code",
   "execution_count": 37,
   "id": "2390ab47",
   "metadata": {},
   "outputs": [],
   "source": [
    "X_train, X_test, y_train, y_test = train_test_split(X,y,test_size=0.3,random_state=42)"
   ]
  },
  {
   "cell_type": "code",
   "execution_count": 38,
   "id": "9269a822",
   "metadata": {},
   "outputs": [
    {
     "name": "stdout",
     "output_type": "stream",
     "text": [
      "(622, 9)\n",
      "(267, 9)\n",
      "(622,)\n",
      "(267,)\n"
     ]
    }
   ],
   "source": [
    "print(X_train.shape)\n",
    "print(X_test.shape)\n",
    "print(y_train.shape)\n",
    "print(y_test.shape)"
   ]
  },
  {
   "cell_type": "code",
   "execution_count": 60,
   "id": "536d538c",
   "metadata": {},
   "outputs": [],
   "source": [
    "LogReg = LogisticRegression(max_iter=10000).fit(X_train, y_train)"
   ]
  },
  {
   "cell_type": "code",
   "execution_count": 61,
   "id": "5efd88c9",
   "metadata": {},
   "outputs": [],
   "source": [
    "y_pred = LogReg.predict(X_test)"
   ]
  },
  {
   "cell_type": "code",
   "execution_count": 62,
   "id": "92249c84",
   "metadata": {},
   "outputs": [
    {
     "data": {
      "text/plain": [
       "array([[138,  29],\n",
       "       [ 25,  75]], dtype=int64)"
      ]
     },
     "execution_count": 62,
     "metadata": {},
     "output_type": "execute_result"
    }
   ],
   "source": [
    "confusion_matrix(y_test,y_pred)"
   ]
  },
  {
   "cell_type": "code",
   "execution_count": 63,
   "id": "45e34a74",
   "metadata": {},
   "outputs": [
    {
     "name": "stdout",
     "output_type": "stream",
     "text": [
      "              precision    recall  f1-score   support\n",
      "\n",
      "           0       0.85      0.83      0.84       167\n",
      "           1       0.72      0.75      0.74       100\n",
      "\n",
      "    accuracy                           0.80       267\n",
      "   macro avg       0.78      0.79      0.79       267\n",
      "weighted avg       0.80      0.80      0.80       267\n",
      "\n"
     ]
    }
   ],
   "source": [
    "print(classification_report(y_test,y_pred))"
   ]
  },
  {
   "cell_type": "code",
   "execution_count": 64,
   "id": "a8dc57cc",
   "metadata": {},
   "outputs": [
    {
     "data": {
      "text/plain": [
       "array([[-1.19407106, -0.04963572, -0.40713744, -0.01181591,  1.33719631,\n",
       "        -1.33782411,  0.33695837, -0.08843717, -0.249149  ]])"
      ]
     },
     "execution_count": 64,
     "metadata": {},
     "output_type": "execute_result"
    }
   ],
   "source": [
    "LogReg.coef_"
   ]
  },
  {
   "cell_type": "code",
   "execution_count": 65,
   "id": "6c7de5da",
   "metadata": {},
   "outputs": [
    {
     "data": {
      "text/plain": [
       "array([4.34930673])"
      ]
     },
     "execution_count": 65,
     "metadata": {},
     "output_type": "execute_result"
    }
   ],
   "source": [
    "LogReg.intercept_"
   ]
  },
  {
   "cell_type": "code",
   "execution_count": 66,
   "id": "95d07b0f",
   "metadata": {},
   "outputs": [
    {
     "data": {
      "text/plain": [
       "Index(['Pclass', 'Age', 'SibSp', 'Parch', 'Sex_female', 'Sex_male',\n",
       "       'Embarked_C', 'Embarked_Q', 'Embarked_S'],\n",
       "      dtype='object')"
      ]
     },
     "execution_count": 66,
     "metadata": {},
     "output_type": "execute_result"
    }
   ],
   "source": [
    "df_train_dummied[used_features].columns"
   ]
  },
  {
   "cell_type": "code",
   "execution_count": 67,
   "id": "a24c3d06",
   "metadata": {},
   "outputs": [
    {
     "data": {
      "text/plain": [
       "array([[0.90111538, 0.09888462],\n",
       "       [0.04238653, 0.95761347],\n",
       "       [0.20763988, 0.79236012],\n",
       "       [0.75303778, 0.24696222],\n",
       "       [0.03468295, 0.96531705],\n",
       "       [0.89660362, 0.10339638],\n",
       "       [0.70405887, 0.29594113],\n",
       "       [0.86555662, 0.13444338],\n",
       "       [0.07765495, 0.92234505],\n",
       "       [0.03421362, 0.96578638],\n",
       "       [0.60347846, 0.39652154],\n",
       "       [0.43616373, 0.56383627],\n",
       "       [0.96614742, 0.03385258],\n",
       "       [0.87340853, 0.12659147],\n",
       "       [0.90545104, 0.09454896],\n",
       "       [0.90111538, 0.09888462],\n",
       "       [0.67580368, 0.32419632],\n",
       "       [0.80612566, 0.19387434],\n",
       "       [0.73053954, 0.26946046],\n",
       "       [0.88196142, 0.11803858],\n",
       "       [0.73073398, 0.26926602],\n",
       "       [0.08355894, 0.91644106],\n",
       "       [0.948651  , 0.051349  ],\n",
       "       [0.42120019, 0.57879981],\n",
       "       [0.88196142, 0.11803858],\n",
       "       [0.45786485, 0.54213515],\n",
       "       [0.69563277, 0.30436723],\n",
       "       [0.14548166, 0.85451834],\n",
       "       [0.56666543, 0.43333457],\n",
       "       [0.71429519, 0.28570481],\n",
       "       [0.45550242, 0.54449758],\n",
       "       [0.30478904, 0.69521096],\n",
       "       [0.88196142, 0.11803858],\n",
       "       [0.40914908, 0.59085092],\n",
       "       [0.96302044, 0.03697956],\n",
       "       [0.66271045, 0.33728955],\n",
       "       [0.2031084 , 0.7968916 ],\n",
       "       [0.39720615, 0.60279385],\n",
       "       [0.80612566, 0.19387434],\n",
       "       [0.88196142, 0.11803858],\n",
       "       [0.87091255, 0.12908745],\n",
       "       [0.44840667, 0.55159333],\n",
       "       [0.68296469, 0.31703531],\n",
       "       [0.89191069, 0.10808931],\n",
       "       [0.52980258, 0.47019742],\n",
       "       [0.45786485, 0.54213515],\n",
       "       [0.20755448, 0.79244552],\n",
       "       [0.88196142, 0.11803858],\n",
       "       [0.78808536, 0.21191464],\n",
       "       [0.08820202, 0.91179798],\n",
       "       [0.06427625, 0.93572375],\n",
       "       [0.25487589, 0.74512411],\n",
       "       [0.87122856, 0.12877144],\n",
       "       [0.90175845, 0.09824155],\n",
       "       [0.08377467, 0.91622533],\n",
       "       [0.10850213, 0.89149787],\n",
       "       [0.45119958, 0.54880042],\n",
       "       [0.94023291, 0.05976709],\n",
       "       [0.83397306, 0.16602694],\n",
       "       [0.75303778, 0.24696222],\n",
       "       [0.65494511, 0.34505489],\n",
       "       [0.48840522, 0.51159478],\n",
       "       [0.19090971, 0.80909029],\n",
       "       [0.83397306, 0.16602694],\n",
       "       [0.15328729, 0.84671271],\n",
       "       [0.6269727 , 0.3730273 ],\n",
       "       [0.9644859 , 0.0355141 ],\n",
       "       [0.90111538, 0.09888462],\n",
       "       [0.07765495, 0.92234505],\n",
       "       [0.02562736, 0.97437264],\n",
       "       [0.72431608, 0.27568392],\n",
       "       [0.02381719, 0.97618281],\n",
       "       [0.22681929, 0.77318071],\n",
       "       [0.89660362, 0.10339638],\n",
       "       [0.58391902, 0.41608098],\n",
       "       [0.21215875, 0.78784125],\n",
       "       [0.85357977, 0.14642023],\n",
       "       [0.92805103, 0.07194897],\n",
       "       [0.1487988 , 0.8512012 ],\n",
       "       [0.46783778, 0.53216222],\n",
       "       [0.59350317, 0.40649683],\n",
       "       [0.03421362, 0.96578638],\n",
       "       [0.10601227, 0.89398773],\n",
       "       [0.30478904, 0.69521096],\n",
       "       [0.84820099, 0.15179901],\n",
       "       [0.86417699, 0.13582301],\n",
       "       [0.94807236, 0.05192764],\n",
       "       [0.68296469, 0.31703531],\n",
       "       [0.8870316 , 0.1129684 ],\n",
       "       [0.88196142, 0.11803858],\n",
       "       [0.91361434, 0.08638566],\n",
       "       [0.31796166, 0.68203834],\n",
       "       [0.87122856, 0.12877144],\n",
       "       [0.92113421, 0.07886579],\n",
       "       [0.88196142, 0.11803858],\n",
       "       [0.21175268, 0.78824732],\n",
       "       [0.88196142, 0.11803858],\n",
       "       [0.79625635, 0.20374365],\n",
       "       [0.80804795, 0.19195205],\n",
       "       [0.86417699, 0.13582301],\n",
       "       [0.8870316 , 0.1129684 ],\n",
       "       [0.02968637, 0.97031363],\n",
       "       [0.45924679, 0.54075321],\n",
       "       [0.91745217, 0.08254783],\n",
       "       [0.93721656, 0.06278344],\n",
       "       [0.95046234, 0.04953766],\n",
       "       [0.37402765, 0.62597235],\n",
       "       [0.03115   , 0.96885   ],\n",
       "       [0.79013809, 0.20986191],\n",
       "       [0.86555662, 0.13444338],\n",
       "       [0.85967508, 0.14032492],\n",
       "       [0.26875811, 0.73124189],\n",
       "       [0.9628315 , 0.0371685 ],\n",
       "       [0.10920422, 0.89079578],\n",
       "       [0.90530086, 0.09469914],\n",
       "       [0.89400087, 0.10599913],\n",
       "       [0.90938405, 0.09061595],\n",
       "       [0.74369146, 0.25630854],\n",
       "       [0.40949115, 0.59050885],\n",
       "       [0.91896195, 0.08103805],\n",
       "       [0.54826648, 0.45173352],\n",
       "       [0.05984924, 0.94015076],\n",
       "       [0.96092427, 0.03907573],\n",
       "       [0.88196142, 0.11803858],\n",
       "       [0.02991063, 0.97008937],\n",
       "       [0.07006239, 0.92993761],\n",
       "       [0.42120019, 0.57879981],\n",
       "       [0.13006857, 0.86993143],\n",
       "       [0.27418291, 0.72581709],\n",
       "       [0.80374709, 0.19625291],\n",
       "       [0.1666197 , 0.8333803 ],\n",
       "       [0.60347846, 0.39652154],\n",
       "       [0.8837495 , 0.1162505 ],\n",
       "       [0.80612566, 0.19387434],\n",
       "       [0.36248096, 0.63751904],\n",
       "       [0.25132626, 0.74867374],\n",
       "       [0.91361434, 0.08638566],\n",
       "       [0.13494163, 0.86505837],\n",
       "       [0.36480699, 0.63519301],\n",
       "       [0.10489764, 0.89510236],\n",
       "       [0.27325294, 0.72674706],\n",
       "       [0.88196142, 0.11803858],\n",
       "       [0.15984097, 0.84015903],\n",
       "       [0.49475515, 0.50524485],\n",
       "       [0.04774908, 0.95225092],\n",
       "       [0.66534651, 0.33465349],\n",
       "       [0.94793366, 0.05206634],\n",
       "       [0.07006239, 0.92993761],\n",
       "       [0.88196142, 0.11803858],\n",
       "       [0.07098734, 0.92901266],\n",
       "       [0.88196142, 0.11803858],\n",
       "       [0.22230668, 0.77769332],\n",
       "       [0.68235511, 0.31764489],\n",
       "       [0.42327047, 0.57672953],\n",
       "       [0.81705678, 0.18294322],\n",
       "       [0.11664642, 0.88335358],\n",
       "       [0.45550242, 0.54449758],\n",
       "       [0.91094197, 0.08905803],\n",
       "       [0.90840657, 0.09159343],\n",
       "       [0.08636263, 0.91363737],\n",
       "       [0.92186134, 0.07813866],\n",
       "       [0.02716076, 0.97283924],\n",
       "       [0.91745217, 0.08254783],\n",
       "       [0.86417699, 0.13582301],\n",
       "       [0.7472063 , 0.2527937 ],\n",
       "       [0.50081207, 0.49918793],\n",
       "       [0.1192424 , 0.8807576 ],\n",
       "       [0.87122856, 0.12877144],\n",
       "       [0.92805103, 0.07194897],\n",
       "       [0.20590607, 0.79409393],\n",
       "       [0.13494163, 0.86505837],\n",
       "       [0.31038605, 0.68961395],\n",
       "       [0.17142331, 0.82857669],\n",
       "       [0.84073229, 0.15926771],\n",
       "       [0.27653837, 0.72346163],\n",
       "       [0.62180894, 0.37819106],\n",
       "       [0.73189339, 0.26810661],\n",
       "       [0.22484624, 0.77515376],\n",
       "       [0.0410402 , 0.9589598 ],\n",
       "       [0.30093413, 0.69906587],\n",
       "       [0.91745217, 0.08254783],\n",
       "       [0.93193803, 0.06806197],\n",
       "       [0.97272414, 0.02727586],\n",
       "       [0.47410124, 0.52589876],\n",
       "       [0.87122856, 0.12877144],\n",
       "       [0.90111538, 0.09888462],\n",
       "       [0.88196142, 0.11803858],\n",
       "       [0.56666543, 0.43333457],\n",
       "       [0.74369146, 0.25630854],\n",
       "       [0.86639665, 0.13360335],\n",
       "       [0.93491125, 0.06508875],\n",
       "       [0.90530086, 0.09469914],\n",
       "       [0.30478904, 0.69521096],\n",
       "       [0.90086437, 0.09913563],\n",
       "       [0.89287593, 0.10712407],\n",
       "       [0.81893548, 0.18106452],\n",
       "       [0.87122856, 0.12877144],\n",
       "       [0.14234064, 0.85765936],\n",
       "       [0.54464063, 0.45535937],\n",
       "       [0.63861193, 0.36138807],\n",
       "       [0.93219893, 0.06780107],\n",
       "       [0.40949115, 0.59050885],\n",
       "       [0.68235511, 0.31764489],\n",
       "       [0.94557368, 0.05442632],\n",
       "       [0.84073229, 0.15926771],\n",
       "       [0.77230795, 0.22769205],\n",
       "       [0.89191069, 0.10808931],\n",
       "       [0.80612566, 0.19387434],\n",
       "       [0.02562736, 0.97437264],\n",
       "       [0.39720615, 0.60279385],\n",
       "       [0.90961565, 0.09038435],\n",
       "       [0.78061811, 0.21938189],\n",
       "       [0.86417699, 0.13582301],\n",
       "       [0.42120019, 0.57879981],\n",
       "       [0.8958909 , 0.1041091 ],\n",
       "       [0.92786292, 0.07213708],\n",
       "       [0.22764072, 0.77235928],\n",
       "       [0.82658303, 0.17341697],\n",
       "       [0.88196142, 0.11803858],\n",
       "       [0.37423368, 0.62576632],\n",
       "       [0.90111538, 0.09888462],\n",
       "       [0.15984097, 0.84015903],\n",
       "       [0.1192424 , 0.8807576 ],\n",
       "       [0.31796166, 0.68203834],\n",
       "       [0.36183096, 0.63816904],\n",
       "       [0.74369146, 0.25630854],\n",
       "       [0.56666543, 0.43333457],\n",
       "       [0.21592475, 0.78407525],\n",
       "       [0.36248096, 0.63751904],\n",
       "       [0.04150775, 0.95849225],\n",
       "       [0.30478904, 0.69521096],\n",
       "       [0.86417699, 0.13582301],\n",
       "       [0.86555662, 0.13444338],\n",
       "       [0.99499285, 0.00500715],\n",
       "       [0.86417699, 0.13582301],\n",
       "       [0.86417699, 0.13582301],\n",
       "       [0.523696  , 0.476304  ],\n",
       "       [0.01757748, 0.98242252],\n",
       "       [0.87639081, 0.12360919],\n",
       "       [0.95911098, 0.04088902],\n",
       "       [0.3641552 , 0.6358448 ],\n",
       "       [0.80612566, 0.19387434],\n",
       "       [0.05005731, 0.94994269],\n",
       "       [0.92186134, 0.07813866],\n",
       "       [0.78106942, 0.21893058],\n",
       "       [0.67877185, 0.32122815],\n",
       "       [0.30478904, 0.69521096],\n",
       "       [0.75303778, 0.24696222],\n",
       "       [0.73356672, 0.26643328],\n",
       "       [0.87122856, 0.12877144],\n",
       "       [0.84690224, 0.15309776],\n",
       "       [0.88196142, 0.11803858],\n",
       "       [0.79013809, 0.20986191],\n",
       "       [0.08070806, 0.91929194],\n",
       "       [0.85357977, 0.14642023],\n",
       "       [0.51321792, 0.48678208],\n",
       "       [0.77320304, 0.22679696],\n",
       "       [0.22057373, 0.77942627],\n",
       "       [0.70405887, 0.29594113],\n",
       "       [0.88166816, 0.11833184],\n",
       "       [0.83497281, 0.16502719],\n",
       "       [0.93738192, 0.06261808],\n",
       "       [0.88196142, 0.11803858],\n",
       "       [0.36215408, 0.63784592],\n",
       "       [0.81376542, 0.18623458],\n",
       "       [0.65152759, 0.34847241],\n",
       "       [0.45550242, 0.54449758]])"
      ]
     },
     "execution_count": 67,
     "metadata": {},
     "output_type": "execute_result"
    }
   ],
   "source": [
    "LogReg.predict_proba(X_test)"
   ]
  }
 ],
 "metadata": {
  "kernelspec": {
   "display_name": "Python 3 (ipykernel)",
   "language": "python",
   "name": "python3"
  },
  "language_info": {
   "codemirror_mode": {
    "name": "ipython",
    "version": 3
   },
   "file_extension": ".py",
   "mimetype": "text/x-python",
   "name": "python",
   "nbconvert_exporter": "python",
   "pygments_lexer": "ipython3",
   "version": "3.9.13"
  }
 },
 "nbformat": 4,
 "nbformat_minor": 5
}
